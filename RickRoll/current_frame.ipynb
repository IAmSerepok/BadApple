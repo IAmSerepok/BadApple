{
 "cells": [
  {
   "cell_type": "code",
   "execution_count": 23,
   "metadata": {},
   "outputs": [],
   "source": [
    "from PIL import Image\n",
    "import numpy as np"
   ]
  },
  {
   "cell_type": "code",
   "execution_count": 24,
   "metadata": {},
   "outputs": [],
   "source": [
    "image_path = 'frames/frame_355.jpg' # <-- Path to Bad Apple frame\n",
    "image = Image.open(image_path)\n",
    "pixel_array = np.array(image)"
   ]
  },
  {
   "cell_type": "code",
   "execution_count": 25,
   "metadata": {},
   "outputs": [],
   "source": [
    "bgr = Image.open('ric/frame_355.jpg') # <-- Path to Rick Roll frames\n",
    "bgr = bgr.crop((0, 0, 960, 720)) # <-- Crop bgr frame\n",
    "bgr_pixel_array = np.array(bgr)"
   ]
  },
  {
   "cell_type": "code",
   "execution_count": 26,
   "metadata": {},
   "outputs": [],
   "source": [
    "height, width, channels = pixel_array.shape"
   ]
  },
  {
   "cell_type": "code",
   "execution_count": 27,
   "metadata": {},
   "outputs": [],
   "source": [
    "for x in range(width):\n",
    "\n",
    "    for y in range(height):\n",
    "        \n",
    "        r, g, b = pixel_array[y, x]\n",
    "\n",
    "        if (r > 230) and (g > 230) and (b > 230):\n",
    "            r, g, b = bgr_pixel_array[y, x]\n",
    "            bgr.putpixel((x, y), (255 - r, 255 - g, 255 - b))\n",
    "\n",
    "bgr.save('default.jpg')"
   ]
  }
 ],
 "metadata": {
  "kernelspec": {
   "display_name": "Python 3",
   "language": "python",
   "name": "python3"
  },
  "language_info": {
   "codemirror_mode": {
    "name": "ipython",
    "version": 3
   },
   "file_extension": ".py",
   "mimetype": "text/x-python",
   "name": "python",
   "nbconvert_exporter": "python",
   "pygments_lexer": "ipython3",
   "version": "3.11.6"
  }
 },
 "nbformat": 4,
 "nbformat_minor": 2
}
