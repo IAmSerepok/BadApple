{
 "cells": [
  {
   "cell_type": "code",
   "execution_count": 15,
   "metadata": {},
   "outputs": [],
   "source": [
    "from PIL import Image\n",
    "import numpy as np\n",
    "import matplotlib.pyplot as plt"
   ]
  },
  {
   "cell_type": "code",
   "execution_count": 16,
   "metadata": {},
   "outputs": [],
   "source": [
    "image_path = 'frame_100.jpg' # <-- Path to image\n",
    "image = Image.open(image_path)\n",
    "pixel_array = np.array(image)"
   ]
  },
  {
   "cell_type": "code",
   "execution_count": 17,
   "metadata": {},
   "outputs": [],
   "source": [
    "height, width, channels = pixel_array.shape"
   ]
  },
  {
   "cell_type": "code",
   "execution_count": 18,
   "metadata": {},
   "outputs": [],
   "source": [
    "step = 10 # <-- This is sampling step value"
   ]
  },
  {
   "cell_type": "code",
   "execution_count": 19,
   "metadata": {},
   "outputs": [],
   "source": [
    "height = height // step\n",
    "width = width // step"
   ]
  },
  {
   "cell_type": "code",
   "execution_count": 20,
   "metadata": {},
   "outputs": [
    {
     "data": {
      "image/png": "[encoded data removed]",
      "text/plain": [
       "<Figure size 900x700 with 1 Axes>"
      ]
     },
     "metadata": {},
     "output_type": "display_data"
    }
   ],
   "source": [
    "plt.subplots(figsize=(9, 7)) # image size\n",
    "\n",
    "plt.xlim(0, 960)\n",
    "plt.ylim(0, 720)\n",
    "\n",
    "for i in range(width):\n",
    "\n",
    "    j = 0\n",
    "\n",
    "    data_x = []\n",
    "    data_y = []\n",
    "\n",
    "    while j < height:\n",
    "\n",
    "        col = pixel_array[j * step, i * step]\n",
    "\n",
    "        if np.all(col > 230):\n",
    "\n",
    "            data_x.append(i * step)\n",
    "            data_y.append(pixel_array.shape[0] - j * step)\n",
    "\n",
    "        else:\n",
    "\n",
    "            plt.plot(data_x, data_y, color='white')\n",
    "\n",
    "            data_x = []\n",
    "            data_y = []\n",
    "        \n",
    "        j += 1\n",
    "\n",
    "    plt.plot(data_x, data_y, color='white')\n",
    "\n",
    "plt.savefig('outp.jpeg', dpi=300)\n",
    "\n",
    "plt.show()"
   ]
  }
 ],
 "metadata": {
  "kernelspec": {
   "display_name": "Python 3",
   "language": "python",
   "name": "python3"
  },
  "language_info": {
   "codemirror_mode": {
    "name": "ipython",
    "version": 3
   },
   "file_extension": ".py",
   "mimetype": "text/x-python",
   "name": "python",
   "nbconvert_exporter": "python",
   "pygments_lexer": "ipython3",
   "version": "3.11.6"
  }
 },
 "nbformat": 4,
 "nbformat_minor": 2
}
