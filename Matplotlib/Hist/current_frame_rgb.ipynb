{
 "cells": [
  {
   "cell_type": "markdown",
   "metadata": {},
   "source": [
    "**This program processes color images, but it takes a long time**"
   ]
  },
  {
   "cell_type": "code",
   "execution_count": 9,
   "metadata": {},
   "outputs": [],
   "source": [
    "from PIL import Image\n",
    "import numpy as np\n",
    "import matplotlib.pyplot as plt"
   ]
  },
  {
   "cell_type": "code",
   "execution_count": 10,
   "metadata": {},
   "outputs": [],
   "source": [
    "image_path = 'image.jpg' # <-- Path to image\n",
    "image = Image.open(image_path)\n",
    "pixel_array = np.array(image)\n"
   ]
  },
  {
   "cell_type": "code",
   "execution_count": 11,
   "metadata": {},
   "outputs": [],
   "source": [
    "height, width, channels = pixel_array.shape"
   ]
  },
  {
   "cell_type": "code",
   "execution_count": 12,
   "metadata": {},
   "outputs": [],
   "source": [
    "step = 5 # <-- This is sampling step value\n",
    "space = 0 # <-- This is space between bars value\n",
    "condition = 0.1 # <-- This is conditional value for color change (0 < conditional< 1)\n",
    "width = width // step"
   ]
  },
  {
   "cell_type": "code",
   "execution_count": 13,
   "metadata": {},
   "outputs": [],
   "source": [
    "data = [[]]\n",
    "prev_sost = pixel_array[height-1, 0] / 255\n",
    "colors = [prev_sost]"
   ]
  },
  {
   "cell_type": "code",
   "execution_count": 14,
   "metadata": {},
   "outputs": [],
   "source": [
    "h = 1\n",
    "\n",
    "for i in range(0, width, step):\n",
    "\n",
    "    for j in range(height - 1, -1, -1):\n",
    "\n",
    "        new_sost = pixel_array[j, i * step] / 255\n",
    "\n",
    "        if abs(new_sost - prev_sost).any() > condition:\n",
    "\n",
    "            prev_sost = new_sost\n",
    "\n",
    "            try:\n",
    "                data[h].append(i * step)\n",
    "\n",
    "            except:\n",
    "                data.append([])\n",
    "                data[h].append(i * step)\n",
    "\n",
    "                colors.append(new_sost)\n",
    "\n",
    "            h += 1\n",
    "    \n",
    "        else:\n",
    "            data[h-1].append(i * step)"
   ]
  },
  {
   "cell_type": "code",
   "execution_count": 15,
   "metadata": {},
   "outputs": [],
   "source": [
    "my_bins = [i * step for i in range(width + 1)]"
   ]
  },
  {
   "cell_type": "code",
   "execution_count": null,
   "metadata": {},
   "outputs": [],
   "source": [
    "plt.figure(figsize=(9, 7)) # image size\n",
    "\n",
    "plt.hist(data, bins=my_bins, stacked=True, width=step**2 - space, color=colors)\n",
    "\n",
    "plt.savefig('outp.jpeg', dpi=300) # saving image\n",
    "\n",
    "plt.show()"
   ]
  }
 ],
 "metadata": {
  "kernelspec": {
   "display_name": "Python 3",
   "language": "python",
   "name": "python3"
  },
  "language_info": {
   "codemirror_mode": {
    "name": "ipython",
    "version": 3
   },
   "file_extension": ".py",
   "mimetype": "text/x-python",
   "name": "python",
   "nbconvert_exporter": "python",
   "pygments_lexer": "ipython3",
   "version": "3.11.6"
  }
 },
 "nbformat": 4,
 "nbformat_minor": 2
}
