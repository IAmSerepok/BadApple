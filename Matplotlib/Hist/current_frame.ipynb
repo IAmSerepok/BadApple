{
 "cells": [
  {
   "cell_type": "code",
   "execution_count": 11,
   "metadata": {},
   "outputs": [],
   "source": [
    "from PIL import Image\n",
    "import numpy as np\n",
    "import matplotlib.pyplot as plt\n"
   ]
  },
  {
   "cell_type": "code",
   "execution_count": null,
   "metadata": {},
   "outputs": [],
   "source": [
    "image_path = 'frames/frame_3431.jpg' # <-- Path to image\n",
    "image = Image.open(image_path)\n",
    "pixel_array = np.array(image)\n"
   ]
  },
  {
   "cell_type": "code",
   "execution_count": null,
   "metadata": {},
   "outputs": [],
   "source": [
    "height, width, channels = pixel_array.shape"
   ]
  },
  {
   "cell_type": "code",
   "execution_count": null,
   "metadata": {},
   "outputs": [],
   "source": [
    "step = 3 # <-- This is sampling step value\n",
    "space = 0 # <-- This is space between bars value\n",
    "width = width // step"
   ]
  },
  {
   "cell_type": "code",
   "execution_count": null,
   "metadata": {},
   "outputs": [],
   "source": [
    "sost = []\n",
    "for i in range(width):\n",
    "    if pixel_array[0, i * step][0] > 100:\n",
    "        sost.append('black')\n",
    "    else:\n",
    "        sost.append('white')"
   ]
  },
  {
   "cell_type": "code",
   "execution_count": null,
   "metadata": {},
   "outputs": [],
   "source": [
    "data = [[], []]"
   ]
  },
  {
   "cell_type": "code",
   "execution_count": null,
   "metadata": {},
   "outputs": [],
   "source": [
    "for i in range(0, width, step):\n",
    "\n",
    "    h = 1\n",
    "\n",
    "    for j in range(height - 1, -1, -1):\n",
    "\n",
    "        new_sost = 'white'\n",
    "        \n",
    "        if pixel_array[j, i * step][0] > 100:\n",
    "            new_sost = 'black'\n",
    "\n",
    "        if sost[i] != new_sost:\n",
    "\n",
    "            delta = 0\n",
    "\n",
    "            if new_sost == 'white':\n",
    "                delta = 1\n",
    "\n",
    "            sost[i] = new_sost\n",
    "\n",
    "            try:\n",
    "                data[2*h+delta].append(i * step)\n",
    "\n",
    "            except:\n",
    "                for _ in range(2):\n",
    "                    data.append([])\n",
    "\n",
    "                data[2*h+delta].append(i * step)\n",
    "\n",
    "            h += 1\n",
    "    \n",
    "        else:\n",
    "\n",
    "            delta = 0\n",
    "\n",
    "            if new_sost == 'white':\n",
    "                delta = 1\n",
    "\n",
    "            data[2*(h-1)+delta].append(i * step)"
   ]
  },
  {
   "cell_type": "code",
   "execution_count": null,
   "metadata": {},
   "outputs": [],
   "source": [
    "my_bins = [i * step for i in range(width + 1)]"
   ]
  },
  {
   "cell_type": "code",
   "execution_count": null,
   "metadata": {},
   "outputs": [],
   "source": [
    "colors = ['white', 'black'] * (len(data) // 2)"
   ]
  },
  {
   "cell_type": "code",
   "execution_count": null,
   "metadata": {},
   "outputs": [],
   "source": [
    "is_colored = False # <-- Display in color?"
   ]
  },
  {
   "cell_type": "code",
   "execution_count": null,
   "metadata": {},
   "outputs": [
    {
     "data": {
      "image/png": "[encoded data removed]",
      "text/plain": [
       "<Figure size 900x700 with 1 Axes>"
      ]
     },
     "metadata": {},
     "output_type": "display_data"
    }
   ],
   "source": [
    "plt.figure(figsize=(9, 7)) # image size\n",
    "\n",
    "if is_colored:\n",
    "    plt.hist(data, bins=my_bins, stacked=True, width=step**2 - space)\n",
    "else:\n",
    "    plt.hist(data, bins=my_bins, stacked=True, width=step**2 - space, color=colors)\n",
    "\n",
    "plt.savefig('outp.jpeg', dpi=300) # saving image\n",
    "\n",
    "plt.show()"
   ]
  }
 ],
 "metadata": {
  "kernelspec": {
   "display_name": "Python 3",
   "language": "python",
   "name": "python3"
  },
  "language_info": {
   "codemirror_mode": {
    "name": "ipython",
    "version": 3
   },
   "file_extension": ".py",
   "mimetype": "text/x-python",
   "name": "python",
   "nbconvert_exporter": "python",
   "pygments_lexer": "ipython3",
   "version": "3.11.6"
  }
 },
 "nbformat": 4,
 "nbformat_minor": 2
}
