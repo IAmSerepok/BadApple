{
 "cells": [
  {
   "cell_type": "code",
   "execution_count": 61,
   "metadata": {},
   "outputs": [],
   "source": [
    "from PIL import Image\n",
    "import numpy as np\n",
    "from random import random\n",
    "from copy import deepcopy"
   ]
  },
  {
   "cell_type": "code",
   "execution_count": 62,
   "metadata": {},
   "outputs": [],
   "source": [
    "image_path = 'frames/frame_0.jpg' # <-- Path to Bad Apple frame\n",
    "image = Image.open(image_path)\n",
    "pixel_array = np.array(image)\n",
    "height, width, channels = pixel_array.shape"
   ]
  },
  {
   "cell_type": "code",
   "execution_count": 63,
   "metadata": {},
   "outputs": [],
   "source": [
    "step = 25 # <-- Sampling step\n",
    "colls, rows = width // step, height // step"
   ]
  },
  {
   "cell_type": "code",
   "execution_count": 64,
   "metadata": {},
   "outputs": [],
   "source": [
    "field = [[1 if random() < 0.4 else 0 for _2 in range(- step, height + step, step)] for _1 in range(- step, width + step, step)]\n",
    "rule_b = [3]\n",
    "rule_s = [2, 3]"
   ]
  },
  {
   "cell_type": "code",
   "execution_count": 65,
   "metadata": {},
   "outputs": [],
   "source": [
    "def check_cell_mur(x, y):\n",
    "    count = 0\n",
    "    for j in range(y - 1, y + 2):\n",
    "        for i in range(x - 1, x + 2):\n",
    "            if field[i][j]:\n",
    "                count += 1\n",
    "\n",
    "    if field[x][y]:\n",
    "        count -= 1\n",
    "        if count in rule_s:\n",
    "            return 1\n",
    "        return 0\n",
    "    else:\n",
    "        if count in rule_b:\n",
    "            return 1\n",
    "        return 0"
   ]
  },
  {
   "cell_type": "code",
   "execution_count": 66,
   "metadata": {},
   "outputs": [],
   "source": [
    "def iter():\n",
    "    new_field = [[0 for _2 in range(- step, height + step, step)] for _1 in range(- step, width + step, step)]\n",
    "    for x in range(1, colls + 1):\n",
    "        for y in range(1, rows + 1):\n",
    "            new_field[x][y] = check_cell_mur(x, y)\n",
    "    global field\n",
    "    field = deepcopy(new_field)"
   ]
  },
  {
   "cell_type": "code",
   "execution_count": 67,
   "metadata": {},
   "outputs": [],
   "source": [
    "res = Image.new('RGB', (width, height), (0, 0, 0))"
   ]
  },
  {
   "cell_type": "code",
   "execution_count": 68,
   "metadata": {},
   "outputs": [],
   "source": [
    "for _1 in range(35):\n",
    "    iter()"
   ]
  },
  {
   "cell_type": "code",
   "execution_count": 69,
   "metadata": {},
   "outputs": [],
   "source": [
    "for x in range(1, colls + 1):\n",
    "    for y in range(1, rows + 1):\n",
    "        if (pixel_array[(y - 1) * step, (x - 1) * step][0] > 235) and field[x][y]:\n",
    "            for i in range(x * step - step, x * step):\n",
    "                for j in range(y * step - step, y * step):\n",
    "                    res.putpixel((i, j), (255, 255, 255))\n",
    "        elif random() < 0.01:\n",
    "            field[x][y] = 1"
   ]
  },
  {
   "cell_type": "code",
   "execution_count": 70,
   "metadata": {},
   "outputs": [],
   "source": [
    "res.save('default.jpg') # Saving image"
   ]
  }
 ],
 "metadata": {
  "kernelspec": {
   "display_name": "Python 3",
   "language": "python",
   "name": "python3"
  },
  "language_info": {
   "codemirror_mode": {
    "name": "ipython",
    "version": 3
   },
   "file_extension": ".py",
   "mimetype": "text/x-python",
   "name": "python",
   "nbconvert_exporter": "python",
   "pygments_lexer": "ipython3",
   "version": "3.11.9"
  }
 },
 "nbformat": 4,
 "nbformat_minor": 2
}
