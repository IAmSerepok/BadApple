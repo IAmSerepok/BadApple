{
 "cells": [
  {
   "cell_type": "code",
   "execution_count": 71,
   "metadata": {},
   "outputs": [],
   "source": [
    "from PIL import Image\n",
    "import numpy as np\n",
    "from random import randint\n",
    "from copy import deepcopy"
   ]
  },
  {
   "cell_type": "code",
   "execution_count": 72,
   "metadata": {},
   "outputs": [],
   "source": [
    "image_path = 'frames/frame_243.jpg' # <-- Path to Bad Apple frame\n",
    "image = Image.open(image_path)\n",
    "pixel_array = np.array(image)\n",
    "height, width, channels = pixel_array.shape"
   ]
  },
  {
   "cell_type": "code",
   "execution_count": 73,
   "metadata": {},
   "outputs": [],
   "source": [
    "step = 4 # <-- Sampling step\n",
    "colls, rows = width // step, height // step"
   ]
  },
  {
   "cell_type": "code",
   "execution_count": 74,
   "metadata": {},
   "outputs": [],
   "source": [
    "field = [[randint(0, 2) for _2 in range(- step, height + step, step)] for _1 in range(- step, width + step, step)]"
   ]
  },
  {
   "cell_type": "code",
   "execution_count": 75,
   "metadata": {},
   "outputs": [],
   "source": [
    "def check_cell(color, x, y):\n",
    "    global field\n",
    "    count = 0\n",
    "    prev_col = color\n",
    "    col = (color + 1) % 3\n",
    "    for j in range(y - 1, y + 2):\n",
    "        for i in range(x - 1, x + 2):\n",
    "            if field[i][j] == col:\n",
    "                count += 1\n",
    "    if count >= 3:\n",
    "        return col\n",
    "    else:\n",
    "        return prev_col"
   ]
  },
  {
   "cell_type": "code",
   "execution_count": 76,
   "metadata": {},
   "outputs": [],
   "source": [
    "def iter():\n",
    "    global field\n",
    "    new_field = [[0 for _2 in range(- step, height + step, step)] for _1 in range(- step, width + step, step)]\n",
    "    for x in range(1, colls + 1):\n",
    "        for y in range(1, rows + 1):\n",
    "            new_field[x][y] = check_cell(field[x][y], x, y)\n",
    "    field = deepcopy(new_field)"
   ]
  },
  {
   "cell_type": "code",
   "execution_count": 77,
   "metadata": {},
   "outputs": [],
   "source": [
    "res = Image.new('RGB', (width, height), (160, 90, 170))"
   ]
  },
  {
   "cell_type": "code",
   "execution_count": 78,
   "metadata": {},
   "outputs": [],
   "source": [
    "for _1 in range(15):\n",
    "    iter()"
   ]
  },
  {
   "cell_type": "code",
   "execution_count": 79,
   "metadata": {},
   "outputs": [],
   "source": [
    "for x in range(1, colls + 1):\n",
    "    for y in range(1, rows + 1):\n",
    "        if pixel_array[(y - 1) * step, (x - 1) * step][0] > 235:\n",
    "            if field[x][y] == 1:\n",
    "                for i in range(x * step - step, x * step):\n",
    "                    for j in range(y * step - step, y * step):\n",
    "                        res.putpixel((i, j), (150, 190, 220))\n",
    "            elif field[x][y] == 2:\n",
    "                for i in range(x * step - step, x * step):\n",
    "                    for j in range(y * step - step, y * step):\n",
    "                        res.putpixel((i, j), (235, 150, 150))"
   ]
  },
  {
   "cell_type": "code",
   "execution_count": 80,
   "metadata": {},
   "outputs": [],
   "source": [
    "res.save('default.jpg') # Saving image"
   ]
  }
 ],
 "metadata": {
  "kernelspec": {
   "display_name": "Python 3",
   "language": "python",
   "name": "python3"
  },
  "language_info": {
   "codemirror_mode": {
    "name": "ipython",
    "version": 3
   },
   "file_extension": ".py",
   "mimetype": "text/x-python",
   "name": "python",
   "nbconvert_exporter": "python",
   "pygments_lexer": "ipython3",
   "version": "3.11.9"
  }
 },
 "nbformat": 4,
 "nbformat_minor": 2
}
