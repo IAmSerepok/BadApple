{
 "cells": [
  {
   "cell_type": "code",
   "execution_count": 16,
   "metadata": {
    "ExecuteTime": {
     "end_time": "2024-08-23T07:57:14.750737Z",
     "start_time": "2024-08-23T07:57:14.744840Z"
    }
   },
   "outputs": [],
   "source": [
    "from PIL import Image\n",
    "import numpy as np"
   ]
  },
  {
   "cell_type": "code",
   "execution_count": 17,
   "metadata": {
    "ExecuteTime": {
     "end_time": "2024-08-23T07:57:14.800227Z",
     "start_time": "2024-08-23T07:57:14.773740Z"
    }
   },
   "outputs": [],
   "source": [
    "image_path = 'frames/frame_355.jpg' # <-- Path to Bad Apple frame\n",
    "image = Image.open(image_path)\n",
    "pixel_array = np.array(image)"
   ]
  },
  {
   "cell_type": "code",
   "execution_count": 18,
   "metadata": {
    "ExecuteTime": {
     "end_time": "2024-08-23T07:57:14.829533Z",
     "start_time": "2024-08-23T07:57:14.824171Z"
    }
   },
   "outputs": [],
   "source": [
    "height, width, channels = pixel_array.shape"
   ]
  },
  {
   "cell_type": "code",
   "execution_count": 19,
   "metadata": {
    "ExecuteTime": {
     "end_time": "2024-08-23T07:57:14.885199Z",
     "start_time": "2024-08-23T07:57:14.860520Z"
    }
   },
   "outputs": [],
   "source": [
    "noise_bgr = np.random.random((width, height))\n",
    "noise = np.random.random((width, height))"
   ]
  },
  {
   "cell_type": "code",
   "execution_count": 20,
   "metadata": {
    "ExecuteTime": {
     "end_time": "2024-08-23T07:57:23.458455Z",
     "start_time": "2024-08-23T07:57:14.905077Z"
    }
   },
   "outputs": [],
   "source": [
    "for x in range(width):\n",
    "    for y in range(height):\n",
    "        r, g, b = pixel_array[y, x]\n",
    "        value = noise_bgr[x, y]\n",
    "        if (r > 230) and (g > 230) and (b > 230):\n",
    "            value = noise[x, y]\n",
    "            \n",
    "        value = int(np.interp(value, [0, 1], [0, 255]))\n",
    "            \n",
    "        image.putpixel((x, y), (value, value, value))\n",
    "\n",
    "image.save('default.jpg')"
   ]
  }
 ],
 "metadata": {
  "kernelspec": {
   "display_name": "Python 3",
   "language": "python",
   "name": "python3"
  },
  "language_info": {
   "codemirror_mode": {
    "name": "ipython",
    "version": 3
   },
   "file_extension": ".py",
   "mimetype": "text/x-python",
   "name": "python",
   "nbconvert_exporter": "python",
   "pygments_lexer": "ipython3",
   "version": "3.11.9"
  }
 },
 "nbformat": 4,
 "nbformat_minor": 2
}
