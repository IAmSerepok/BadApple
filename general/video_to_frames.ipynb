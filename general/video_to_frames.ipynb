{
 "cells": [
  {
   "cell_type": "code",
   "execution_count": 4,
   "metadata": {},
   "outputs": [],
   "source": [
    "import cv2\n",
    "import os"
   ]
  },
  {
   "cell_type": "code",
   "execution_count": 5,
   "metadata": {},
   "outputs": [],
   "source": [
    "video_path = 'bad_apple.mp4' # <-- path to video\n",
    "video = cv2.VideoCapture(video_path)\n",
    "\n",
    "frame_folder = 'frames' # <-- path to frame folder\n",
    "os.makedirs(frame_folder, exist_ok=True)\n",
    "\n",
    "frame_count = 0\n",
    "while True:\n",
    "    success, image = video.read()\n",
    "    if not success:\n",
    "        break\n",
    "\n",
    "    frame_file = os.path.join(frame_folder, f'frame_{frame_count}.jpg')\n",
    "    cv2.imwrite(frame_file, image)\n",
    "\n",
    "    frame_count += 1\n",
    "\n",
    "video.release()"
   ]
  },
  {
   "cell_type": "code",
   "execution_count": 6,
   "metadata": {},
   "outputs": [
    {
     "data": {
      "text/plain": [
       "6572"
      ]
     },
     "execution_count": 6,
     "metadata": {},
     "output_type": "execute_result"
    }
   ],
   "source": [
    "frame_count"
   ]
  }
 ],
 "metadata": {
  "kernelspec": {
   "display_name": "Python 3",
   "language": "python",
   "name": "python3"
  },
  "language_info": {
   "codemirror_mode": {
    "name": "ipython",
    "version": 3
   },
   "file_extension": ".py",
   "mimetype": "text/x-python",
   "name": "python",
   "nbconvert_exporter": "python",
   "pygments_lexer": "ipython3",
   "version": "3.11.6"
  }
 },
 "nbformat": 4,
 "nbformat_minor": 2
}
