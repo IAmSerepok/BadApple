{
 "cells": [
  {
   "cell_type": "code",
   "execution_count": 17,
   "metadata": {},
   "outputs": [],
   "source": [
    "from PIL import Image\n",
    "import numpy as np"
   ]
  },
  {
   "cell_type": "code",
   "execution_count": 18,
   "metadata": {},
   "outputs": [],
   "source": [
    "image_path = '2.jpg' # <-- Path to image\n",
    "image = Image.open(image_path)\n",
    "pixel_array = np.array(image)"
   ]
  },
  {
   "cell_type": "code",
   "execution_count": 19,
   "metadata": {},
   "outputs": [],
   "source": [
    "height, width, channels = pixel_array.shape"
   ]
  },
  {
   "cell_type": "code",
   "execution_count": 20,
   "metadata": {},
   "outputs": [],
   "source": [
    "for x in range(width):\n",
    "\n",
    "    for y in range(height):\n",
    "        \n",
    "        r, g, b = pixel_array[y, x]\n",
    "        r0, g0, b0 = pixel_array[height - y - 1, x]\n",
    "\n",
    "        if r0 < 30:\n",
    "            image.putpixel((x, y), (255 - r, 255 - g, 255 - b))\n",
    "\n",
    "image.save('default.jpg')"
   ]
  }
 ],
 "metadata": {
  "kernelspec": {
   "display_name": "Python 3",
   "language": "python",
   "name": "python3"
  },
  "language_info": {
   "codemirror_mode": {
    "name": "ipython",
    "version": 3
   },
   "file_extension": ".py",
   "mimetype": "text/x-python",
   "name": "python",
   "nbconvert_exporter": "python",
   "pygments_lexer": "ipython3",
   "version": "3.11.6"
  }
 },
 "nbformat": 4,
 "nbformat_minor": 2
}
