{
 "cells": [
  {
   "cell_type": "code",
   "execution_count": 1,
   "metadata": {},
   "outputs": [],
   "source": [
    "import xlwings as xw\n",
    "from PIL import Image\n",
    "import numpy as np"
   ]
  },
  {
   "cell_type": "code",
   "execution_count": 2,
   "metadata": {},
   "outputs": [],
   "source": [
    "def number_to_column(num):\n",
    "    \"\"\"Convert number to Excel char index\"\"\"\n",
    "    result = ''\n",
    "    while num:\n",
    "        num, remainder = divmod(num - 1, 26)\n",
    "        result = chr(65 + remainder) + result\n",
    "    return result"
   ]
  },
  {
   "cell_type": "code",
   "execution_count": 3,
   "metadata": {},
   "outputs": [],
   "source": [
    "def get_shape(frame_path):\n",
    "    \n",
    "    image = Image.open(frame_path)\n",
    "\n",
    "    pixel_array = np.array(image)\n",
    "\n",
    "    height, width, channels = pixel_array.shape\n",
    "\n",
    "    step = 25  # Sampling step value\n",
    "\n",
    "    width, height = width // step, height // step\n",
    "\n",
    "    colors = pixel_array[::step, ::step]\n",
    "\n",
    "    return width, height, step, colors"
   ]
  },
  {
   "cell_type": "code",
   "execution_count": null,
   "metadata": {},
   "outputs": [],
   "source": [
    "wb = xw.books.active\n",
    "sheet = sheet = wb.sheets['Sheet']  # Main page title\n",
    "image_path = 'image.jpeg'"
   ]
  },
  {
   "cell_type": "code",
   "execution_count": null,
   "metadata": {},
   "outputs": [],
   "source": [
    "width, height, step, colors = get_shape(image_path)\n",
    "\n",
    "for i in range(1, width + 1):\n",
    "    for j in range(1, height + 1):\n",
    "        col = colors[j - 1, i - 1]\n",
    "        if col.any() < 250: \n",
    "            sheet.range(number_to_column(i) + str(j)).color = col"
   ]
  }
 ],
 "metadata": {
  "kernelspec": {
   "display_name": "Python 3",
   "language": "python",
   "name": "python3"
  },
  "language_info": {
   "codemirror_mode": {
    "name": "ipython",
    "version": 3
   },
   "file_extension": ".py",
   "mimetype": "text/x-python",
   "name": "python",
   "nbconvert_exporter": "python",
   "pygments_lexer": "ipython3",
   "version": "3.11.6"
  }
 },
 "nbformat": 4,
 "nbformat_minor": 2
}
